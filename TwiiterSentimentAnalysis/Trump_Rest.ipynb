{
 "cells": [
  {
   "cell_type": "code",
   "execution_count": 1,
   "metadata": {
    "collapsed": true
   },
   "outputs": [],
   "source": [
    "#---Importing the Libraries---\n",
    "\n",
    "from textblob import TextBlob\n",
    "import tweepy\n",
    "import pandas as pd"
   ]
  },
  {
   "cell_type": "code",
   "execution_count": 2,
   "metadata": {
    "collapsed": true
   },
   "outputs": [],
   "source": [
    "#---Connecting to the Twitter API---\n",
    "\n",
    "consumer_key = 'SAx9SLlWriEcqwQrohVvFW7IK'\n",
    "consumer_secret = 'yj3EhFkmfXzpDSReGvHC5IPPhpadLt3cFMX0DXOzE7KBqqjoCm'\n",
    "\n",
    "access_token = '905373434124746752-u8ADxykXGh4nAieqd4XCtT5NYN0ls6W'\n",
    "access_token_secret = 'd1kVcM3t6pZdOKoNxsGbmhE5J6zQm4DAuW5a8XOUBbmmD'\n",
    "\n",
    "auth = tweepy.OAuthHandler(consumer_key, consumer_secret)\n",
    "auth.set_access_token(access_token, access_token_secret)\n",
    "\n",
    "api = tweepy.API(auth)"
   ]
  },
  {
   "cell_type": "code",
   "execution_count": 3,
   "metadata": {
    "collapsed": true
   },
   "outputs": [],
   "source": [
    "public_tweets = api.search('Trump')"
   ]
  },
  {
   "cell_type": "code",
   "execution_count": 4,
   "metadata": {},
   "outputs": [
    {
     "data": {
      "text/plain": [
       "tweepy.models.SearchResults"
      ]
     },
     "execution_count": 4,
     "metadata": {},
     "output_type": "execute_result"
    }
   ],
   "source": [
    "type(public_tweets)"
   ]
  },
  {
   "cell_type": "code",
   "execution_count": 5,
   "metadata": {
    "collapsed": true,
    "scrolled": true
   },
   "outputs": [],
   "source": [
    "tweets, sent_analysis_pol, sent_analysis_sub = [], [], []\n",
    "for tweet in public_tweets:\n",
    "    tweets.append(tweet.text)\n",
    "    analysis = TextBlob(tweet.text)\n",
    "    sent_analysis_pol.append(analysis.polarity)\n",
    "    sent_analysis_sub.append(analysis.subjectivity)"
   ]
  },
  {
   "cell_type": "code",
   "execution_count": 6,
   "metadata": {
    "collapsed": true
   },
   "outputs": [],
   "source": [
    "my_dict = {'Tweets': tweets, 'Polarity': sent_analysis_pol, 'Subjectivity': sent_analysis_sub}"
   ]
  },
  {
   "cell_type": "code",
   "execution_count": 7,
   "metadata": {},
   "outputs": [
    {
     "data": {
      "text/html": [
       "<div>\n",
       "<style>\n",
       "    .dataframe thead tr:only-child th {\n",
       "        text-align: right;\n",
       "    }\n",
       "\n",
       "    .dataframe thead th {\n",
       "        text-align: left;\n",
       "    }\n",
       "\n",
       "    .dataframe tbody tr th {\n",
       "        vertical-align: top;\n",
       "    }\n",
       "</style>\n",
       "<table border=\"1\" class=\"dataframe\">\n",
       "  <thead>\n",
       "    <tr style=\"text-align: right;\">\n",
       "      <th></th>\n",
       "      <th>Tweets</th>\n",
       "      <th>Polarity</th>\n",
       "      <th>Subjectivity</th>\n",
       "    </tr>\n",
       "  </thead>\n",
       "  <tbody>\n",
       "    <tr>\n",
       "      <th>0</th>\n",
       "      <td>RT @rmasher2: There is no universe in which De...</td>\n",
       "      <td>-0.80</td>\n",
       "      <td>1.000000</td>\n",
       "    </tr>\n",
       "    <tr>\n",
       "      <th>1</th>\n",
       "      <td>RT @CREDOMobile: .@SenWarren called Randal Qua...</td>\n",
       "      <td>-0.05</td>\n",
       "      <td>0.700000</td>\n",
       "    </tr>\n",
       "    <tr>\n",
       "      <th>2</th>\n",
       "      <td>RT @thebradfordfile: Trump is the first @POTUS...</td>\n",
       "      <td>0.25</td>\n",
       "      <td>0.333333</td>\n",
       "    </tr>\n",
       "    <tr>\n",
       "      <th>3</th>\n",
       "      <td>RT @Raeonaa: have nothing but hate towards tru...</td>\n",
       "      <td>-0.65</td>\n",
       "      <td>0.900000</td>\n",
       "    </tr>\n",
       "    <tr>\n",
       "      <th>4</th>\n",
       "      <td>RT @LouiseMensch: Russian state media link, to...</td>\n",
       "      <td>0.00</td>\n",
       "      <td>0.000000</td>\n",
       "    </tr>\n",
       "    <tr>\n",
       "      <th>5</th>\n",
       "      <td>RT @sarahkendzior: Fire in West.\\nEarthquakes ...</td>\n",
       "      <td>0.20</td>\n",
       "      <td>0.100000</td>\n",
       "    </tr>\n",
       "    <tr>\n",
       "      <th>6</th>\n",
       "      <td>RT @ddale8: That is the exact phrase Trump use...</td>\n",
       "      <td>0.25</td>\n",
       "      <td>0.250000</td>\n",
       "    </tr>\n",
       "    <tr>\n",
       "      <th>7</th>\n",
       "      <td>@SenSanders @LeeOsiris So you don't want Trump...</td>\n",
       "      <td>0.00</td>\n",
       "      <td>0.000000</td>\n",
       "    </tr>\n",
       "    <tr>\n",
       "      <th>8</th>\n",
       "      <td>RT @sarahkendzior: US has one adversary threat...</td>\n",
       "      <td>0.00</td>\n",
       "      <td>0.000000</td>\n",
       "    </tr>\n",
       "    <tr>\n",
       "      <th>9</th>\n",
       "      <td>RT @SOSracismoNafar: Gaur/Hoy\\nHitzaldia/Charl...</td>\n",
       "      <td>0.00</td>\n",
       "      <td>0.000000</td>\n",
       "    </tr>\n",
       "    <tr>\n",
       "      <th>10</th>\n",
       "      <td>RT @araslanian_: If you support trump, unfollo...</td>\n",
       "      <td>-0.20</td>\n",
       "      <td>0.800000</td>\n",
       "    </tr>\n",
       "    <tr>\n",
       "      <th>11</th>\n",
       "      <td>RT @NRO: Trump is no deal maker. He is just a ...</td>\n",
       "      <td>0.00</td>\n",
       "      <td>0.000000</td>\n",
       "    </tr>\n",
       "    <tr>\n",
       "      <th>12</th>\n",
       "      <td>RT @HumbleTeej: Lol remember when y’all though...</td>\n",
       "      <td>0.45</td>\n",
       "      <td>0.550000</td>\n",
       "    </tr>\n",
       "    <tr>\n",
       "      <th>13</th>\n",
       "      <td>@rachelheldevans @jeannefisher17 Trump believe...</td>\n",
       "      <td>0.00</td>\n",
       "      <td>0.000000</td>\n",
       "    </tr>\n",
       "    <tr>\n",
       "      <th>14</th>\n",
       "      <td>RT @ddale8: A popular slogan at anti-Trump imm...</td>\n",
       "      <td>0.60</td>\n",
       "      <td>0.900000</td>\n",
       "    </tr>\n",
       "  </tbody>\n",
       "</table>\n",
       "</div>"
      ],
      "text/plain": [
       "                                               Tweets  Polarity  Subjectivity\n",
       "0   RT @rmasher2: There is no universe in which De...     -0.80      1.000000\n",
       "1   RT @CREDOMobile: .@SenWarren called Randal Qua...     -0.05      0.700000\n",
       "2   RT @thebradfordfile: Trump is the first @POTUS...      0.25      0.333333\n",
       "3   RT @Raeonaa: have nothing but hate towards tru...     -0.65      0.900000\n",
       "4   RT @LouiseMensch: Russian state media link, to...      0.00      0.000000\n",
       "5   RT @sarahkendzior: Fire in West.\\nEarthquakes ...      0.20      0.100000\n",
       "6   RT @ddale8: That is the exact phrase Trump use...      0.25      0.250000\n",
       "7   @SenSanders @LeeOsiris So you don't want Trump...      0.00      0.000000\n",
       "8   RT @sarahkendzior: US has one adversary threat...      0.00      0.000000\n",
       "9   RT @SOSracismoNafar: Gaur/Hoy\\nHitzaldia/Charl...      0.00      0.000000\n",
       "10  RT @araslanian_: If you support trump, unfollo...     -0.20      0.800000\n",
       "11  RT @NRO: Trump is no deal maker. He is just a ...      0.00      0.000000\n",
       "12  RT @HumbleTeej: Lol remember when y’all though...      0.45      0.550000\n",
       "13  @rachelheldevans @jeannefisher17 Trump believe...      0.00      0.000000\n",
       "14  RT @ddale8: A popular slogan at anti-Trump imm...      0.60      0.900000"
      ]
     },
     "execution_count": 7,
     "metadata": {},
     "output_type": "execute_result"
    }
   ],
   "source": [
    "pd.DataFrame(my_dict, columns=['Tweets', 'Polarity', 'Subjectivity'])"
   ]
  },
  {
   "cell_type": "code",
   "execution_count": null,
   "metadata": {
    "collapsed": true
   },
   "outputs": [],
   "source": []
  }
 ],
 "metadata": {
  "kernelspec": {
   "display_name": "Python 3",
   "language": "python",
   "name": "python3"
  },
  "language_info": {
   "codemirror_mode": {
    "name": "ipython",
    "version": 3
   },
   "file_extension": ".py",
   "mimetype": "text/x-python",
   "name": "python",
   "nbconvert_exporter": "python",
   "pygments_lexer": "ipython3",
   "version": "3.6.2"
  }
 },
 "nbformat": 4,
 "nbformat_minor": 2
}
