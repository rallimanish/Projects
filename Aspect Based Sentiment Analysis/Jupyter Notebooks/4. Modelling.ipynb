{
 "cells": [
  {
   "cell_type": "code",
   "execution_count": 12,
   "metadata": {
    "collapsed": true
   },
   "outputs": [],
   "source": [
    "##########################################\n",
    "# --- Importing the standard libraries ---\n",
    "##########################################\n",
    "\n",
    "import numpy as np\n",
    "import pandas as pd\n",
    "\n",
    "import warnings\n",
    "warnings.filterwarnings('ignore')"
   ]
  },
  {
   "cell_type": "code",
   "execution_count": 4,
   "metadata": {},
   "outputs": [
    {
     "data": {
      "text/html": [
       "<div>\n",
       "<style>\n",
       "    .dataframe thead tr:only-child th {\n",
       "        text-align: right;\n",
       "    }\n",
       "\n",
       "    .dataframe thead th {\n",
       "        text-align: left;\n",
       "    }\n",
       "\n",
       "    .dataframe tbody tr th {\n",
       "        vertical-align: top;\n",
       "    }\n",
       "</style>\n",
       "<table border=\"1\" class=\"dataframe\">\n",
       "  <thead>\n",
       "    <tr style=\"text-align: right;\">\n",
       "      <th></th>\n",
       "      <th>Doc_ID</th>\n",
       "      <th>Review</th>\n",
       "      <th>CLEANLINESS</th>\n",
       "      <th>ROOM</th>\n",
       "      <th>SERVICE</th>\n",
       "      <th>LOCATION</th>\n",
       "      <th>VALUE</th>\n",
       "      <th>OVERALL_RATING</th>\n",
       "    </tr>\n",
       "  </thead>\n",
       "  <tbody>\n",
       "    <tr>\n",
       "      <th>0</th>\n",
       "      <td>china_beijing_holiday_inn_central_plaza</td>\n",
       "      <td>[\"Just about everything about this hotel is fa...</td>\n",
       "      <td>4.786</td>\n",
       "      <td>4.631</td>\n",
       "      <td>4.733</td>\n",
       "      <td>3.553</td>\n",
       "      <td>4.699</td>\n",
       "      <td>4.481</td>\n",
       "    </tr>\n",
       "    <tr>\n",
       "      <th>1</th>\n",
       "      <td>china_beijing_hilton_beijing_wangfujing</td>\n",
       "      <td>['An excellent hotel, with the best room I hav...</td>\n",
       "      <td>4.810</td>\n",
       "      <td>4.845</td>\n",
       "      <td>4.759</td>\n",
       "      <td>4.828</td>\n",
       "      <td>4.517</td>\n",
       "      <td>4.752</td>\n",
       "    </tr>\n",
       "    <tr>\n",
       "      <th>2</th>\n",
       "      <td>china_beijing_hotel_g</td>\n",
       "      <td>['It was chic, everyone was friendly, service ...</td>\n",
       "      <td>4.769</td>\n",
       "      <td>4.750</td>\n",
       "      <td>4.577</td>\n",
       "      <td>4.375</td>\n",
       "      <td>4.654</td>\n",
       "      <td>4.625</td>\n",
       "    </tr>\n",
       "    <tr>\n",
       "      <th>3</th>\n",
       "      <td>china_beijing_the_regent_beijing</td>\n",
       "      <td>[\"My parents and I stayed here during their vi...</td>\n",
       "      <td>4.625</td>\n",
       "      <td>4.812</td>\n",
       "      <td>4.438</td>\n",
       "      <td>4.646</td>\n",
       "      <td>4.531</td>\n",
       "      <td>4.610</td>\n",
       "    </tr>\n",
       "    <tr>\n",
       "      <th>4</th>\n",
       "      <td>china_beijing_the_st_regis_beijing</td>\n",
       "      <td>['this hotel was fantastic. rooms were lovely....</td>\n",
       "      <td>4.846</td>\n",
       "      <td>4.646</td>\n",
       "      <td>4.615</td>\n",
       "      <td>4.492</td>\n",
       "      <td>4.185</td>\n",
       "      <td>4.557</td>\n",
       "    </tr>\n",
       "  </tbody>\n",
       "</table>\n",
       "</div>"
      ],
      "text/plain": [
       "                                    Doc_ID  \\\n",
       "0  china_beijing_holiday_inn_central_plaza   \n",
       "1  china_beijing_hilton_beijing_wangfujing   \n",
       "2                    china_beijing_hotel_g   \n",
       "3         china_beijing_the_regent_beijing   \n",
       "4       china_beijing_the_st_regis_beijing   \n",
       "\n",
       "                                              Review  CLEANLINESS   ROOM  \\\n",
       "0  [\"Just about everything about this hotel is fa...        4.786  4.631   \n",
       "1  ['An excellent hotel, with the best room I hav...        4.810  4.845   \n",
       "2  ['It was chic, everyone was friendly, service ...        4.769  4.750   \n",
       "3  [\"My parents and I stayed here during their vi...        4.625  4.812   \n",
       "4  ['this hotel was fantastic. rooms were lovely....        4.846  4.646   \n",
       "\n",
       "   SERVICE  LOCATION  VALUE  OVERALL_RATING  \n",
       "0    4.733     3.553  4.699           4.481  \n",
       "1    4.759     4.828  4.517           4.752  \n",
       "2    4.577     4.375  4.654           4.625  \n",
       "3    4.438     4.646  4.531           4.610  \n",
       "4    4.615     4.492  4.185           4.557  "
      ]
     },
     "execution_count": 4,
     "metadata": {},
     "output_type": "execute_result"
    }
   ],
   "source": [
    "################################\n",
    "# --- Importing the Dataset ---\n",
    "################################\n",
    "\n",
    "data = pd.read_csv('../Prepared Data/Hotel_Reviews.csv')\n",
    "data.head()"
   ]
  },
  {
   "cell_type": "code",
   "execution_count": 1,
   "metadata": {
    "collapsed": true
   },
   "outputs": [],
   "source": [
    "#############################################\n",
    "#--- Loading the Corpus of Cleaned Reviews---\n",
    "#############################################\n",
    "\n",
    "corpus = []\n",
    "with open('../Corpus/corpus.txt') as f:\n",
    "    for line in f.readlines():\n",
    "        corpus.append(line)"
   ]
  },
  {
   "cell_type": "markdown",
   "metadata": {},
   "source": [
    "## Modelling"
   ]
  },
  {
   "cell_type": "code",
   "execution_count": 78,
   "metadata": {
    "collapsed": true
   },
   "outputs": [],
   "source": [
    "###############################################\n",
    "# --- Chosing our Aspect for Classification ---\n",
    "###############################################\n",
    "\n",
    "# aspect = data.ROOM           # Accuracy Score:-> 60.331 %\n",
    "\n",
    "# aspect = data.CLEANLINESS    # Accuracy Score:-> 58.197 %\n",
    "\n",
    "# aspect = data.SERVICE        # Accuracy Score:-> 62.918 %\n",
    "\n",
    "# aspect = data.LOCATION       # Accuracy Score:-> 61.169 %\n",
    "\n",
    "# aspect = data.VALUE          # Accuracy Score:-> 59.866 %\n",
    "\n",
    "\n",
    "# aspect = data.OVERALL_RATING        # Accuracy Scores:-> 70.213 % "
   ]
  },
  {
   "cell_type": "code",
   "execution_count": 79,
   "metadata": {
    "collapsed": true
   },
   "outputs": [],
   "source": [
    "#########################################\n",
    "# --- Creating the Bag of Words model ---\n",
    "#########################################\n",
    "\n",
    "\n",
    "from sklearn.feature_extraction.text import CountVectorizer\n",
    "cv = CountVectorizer(max_features=5000)\n",
    "X = cv.fit_transform(corpus).toarray()\n",
    "y = list(map(int, aspect.round()))"
   ]
  },
  {
   "cell_type": "code",
   "execution_count": 80,
   "metadata": {
    "collapsed": true
   },
   "outputs": [],
   "source": [
    "##################################################################\n",
    "# --- Splitting the dataset into the Training set and Test set ---\n",
    "##################################################################\n",
    "\n",
    "from sklearn.model_selection import train_test_split\n",
    "X_train, X_test, y_train, y_test = train_test_split(X, y, test_size=0.20, random_state=0)"
   ]
  },
  {
   "cell_type": "code",
   "execution_count": 81,
   "metadata": {},
   "outputs": [
    {
     "name": "stdout",
     "output_type": "stream",
     "text": [
      "Accuracy Score:-> 55.319 %\n"
     ]
    }
   ],
   "source": [
    "########################################################################\n",
    "# ---  Fitting Classifier to the Training set Predicting the results ---\n",
    "########################################################################\n",
    "\n",
    "from sklearn.naive_bayes import MultinomialNB\n",
    "\n",
    "# Training our Classifier\n",
    "classifier = MultinomialNB(alpha=0.00001)\n",
    "classifier.fit(X_train, y_train)\n",
    "\n",
    "# Predicting the Results\n",
    "y_pred = classifier.predict(X_test)\n",
    "\n",
    "# Computing the accuracy\n",
    "from sklearn.metrics import accuracy_score\n",
    "print(\"Accuracy Score:->\", round(accuracy_score(y_test, y_pred) * 100,3), '%')\n",
    "\n",
    "\n",
    "#---Accuracy Scores---\n",
    "\n",
    "# MultinomialNB      # Accuracy Scores:-> 70.213 % , 65.653 % , 69.301 % , 71.125 %\n",
    "# SVC                # Accuracy Scores:-> 65.35 %"
   ]
  },
  {
   "cell_type": "code",
   "execution_count": 82,
   "metadata": {},
   "outputs": [
    {
     "name": "stdout",
     "output_type": "stream",
     "text": [
      "Average Accuracy Score:-> 61.169 %\n",
      "Standard Deviation:-> 0.034\n"
     ]
    }
   ],
   "source": [
    "##############################################################\n",
    "# ---  Analyzing the Results using K-Fold Cross Validation ---\n",
    "##############################################################\n",
    "\n",
    "from sklearn.model_selection import cross_val_score\n",
    "accuracies = cross_val_score(estimator = classifier, X = X_train, y = y_train, cv = 10)\n",
    "\n",
    "mean_accuracy = accuracies.mean()\n",
    "std_accuracy = accuracies.std()\n",
    "\n",
    "print(\"Average Accuracy Score:->\", round(mean_accuracy * 100,3), '%')\n",
    "print(\"Standard Deviation:->\", round(std_accuracy,3))"
   ]
  },
  {
   "cell_type": "code",
   "execution_count": 32,
   "metadata": {},
   "outputs": [
    {
     "name": "stdout",
     "output_type": "stream",
     "text": [
      "Best Accuracy Score:-> 65.779 %\n",
      "Best Parameters:-> {'alpha': 1e-05}\n"
     ]
    }
   ],
   "source": [
    "########################################################\n",
    "# ---  Tuning the Hyper Parameters using Grid Search ---\n",
    "########################################################\n",
    "\n",
    "from sklearn.model_selection import GridSearchCV\n",
    "# parameters = [{'alpha': [0.1,0.01,0.001]}]        # Best value: 0.001\n",
    "# parameters = [{'alpha': [0.001,0.002,0.003]}]     # Best value: 0.001\n",
    "# parameters = [{'alpha': [0.001,0.0001]}]          # Best value: 0.0001\n",
    "# parameters = [{'alpha': [0.0001, 0.00001]}]       # Best value: 0.00001\n",
    "parameters = [{'alpha': [0.000001, 0.00001]}]       # Best value: 0.00001 (Final Selected Value)\n",
    "\n",
    "grid_search = GridSearchCV(estimator = classifier,\n",
    "                           param_grid = parameters,\n",
    "                           scoring = 'accuracy',\n",
    "                           cv = 10,\n",
    "                           n_jobs = -1)\n",
    "\n",
    "\n",
    "grid_search = grid_search.fit(X_train, y_train)\n",
    "\n",
    "best_accuracy = grid_search.best_score_\n",
    "best_parameters = grid_search.best_params_\n",
    "\n",
    "print(\"Best Accuracy Score:->\", round(best_accuracy * 100,3), '%')\n",
    "print(\"Best Parameters:->\", best_parameters)"
   ]
  },
  {
   "cell_type": "markdown",
   "metadata": {},
   "source": [
    "---"
   ]
  }
 ],
 "metadata": {
  "kernelspec": {
   "display_name": "Python 3",
   "language": "python",
   "name": "python3"
  },
  "language_info": {
   "codemirror_mode": {
    "name": "ipython",
    "version": 3
   },
   "file_extension": ".py",
   "mimetype": "text/x-python",
   "name": "python",
   "nbconvert_exporter": "python",
   "pygments_lexer": "ipython3",
   "version": "3.6.2"
  }
 },
 "nbformat": 4,
 "nbformat_minor": 2
}
