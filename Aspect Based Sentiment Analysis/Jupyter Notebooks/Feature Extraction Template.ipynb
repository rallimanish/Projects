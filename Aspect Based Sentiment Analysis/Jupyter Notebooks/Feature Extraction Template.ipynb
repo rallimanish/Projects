{
 "cells": [
  {
   "cell_type": "markdown",
   "metadata": {},
   "source": [
    "## Feature Extraction Template"
   ]
  },
  {
   "cell_type": "code",
   "execution_count": 1,
   "metadata": {
    "collapsed": true
   },
   "outputs": [],
   "source": [
    "##########################################\n",
    "# --- Importing the standard libraries ---\n",
    "##########################################\n",
    "\n",
    "import numpy as np\n",
    "import pandas as pd\n",
    "import re\n",
    "import nltk\n",
    "from textblob import TextBlob"
   ]
  },
  {
   "cell_type": "code",
   "execution_count": 2,
   "metadata": {
    "collapsed": true
   },
   "outputs": [],
   "source": [
    "blob = TextBlob('''The titular threat of The Blob has always struck me as the ultimate movie\n",
    "monster: an insatiably hungry, amoeba-like mass able to penetrate\n",
    "virtually any safeguard, capable of--as a doomed doctor chillingly\n",
    "describes it--\"assimilating flesh on contact.\n",
    "Snide comparisons to gelatin be damned, it's a concept with the most\n",
    "devastating of potential consequences, not unlike the grey goo scenario\n",
    "proposed by technological theorists fearful of\n",
    "artificial intelligence run rampant.''')"
   ]
  },
  {
   "cell_type": "code",
   "execution_count": 3,
   "metadata": {},
   "outputs": [
    {
     "name": "stdout",
     "output_type": "stream",
     "text": [
      "NN_JJ_tags:-> [('titular', 'JJ'), ('threat', 'NN'), ('ultimate', 'JJ'), ('movie', 'NN'), ('monster', 'NN')]\n"
     ]
    }
   ],
   "source": [
    "#######################################\n",
    "# --- Parts of Speech (POS) Tagging ---\n",
    "#######################################\n",
    "##> Extracting only Nouns and Adjectives which are the most describing words\n",
    "# Appends a list of of tuples containing only 'NN' or 'JJ' into tag_list\n",
    "\n",
    "def pos_extract(blob):\n",
    "    tags_list = []\n",
    "    for i in blob.tags:\n",
    "        if (i[1] == 'NN') or (i[1] == 'JJ'):\n",
    "            tags_list.append(i)\n",
    "    return tags_list\n",
    "\n",
    "NN_JJ_tags = pos_extract(blob)              # These can be used as features for training.\n",
    "print('NN_JJ_tags:->', NN_JJ_tags[0:5])"
   ]
  },
  {
   "cell_type": "code",
   "execution_count": 9,
   "metadata": {},
   "outputs": [
    {
     "data": {
      "text/plain": [
       "'threat'"
      ]
     },
     "execution_count": 9,
     "metadata": {},
     "output_type": "execute_result"
    }
   ],
   "source": [
    "NN_JJ_tags[1][0]"
   ]
  },
  {
   "cell_type": "code",
   "execution_count": 11,
   "metadata": {},
   "outputs": [
    {
     "name": "stdout",
     "output_type": "stream",
     "text": [
      "Noun_Phrases:-> ['titular threat', 'blob', 'ultimate movie monster', 'amoeba-like mass']\n"
     ]
    }
   ],
   "source": [
    "#################################\n",
    "# --- Noun Phrases Extraction ---\n",
    "#################################\n",
    "##> Noun Phrase consists of (Det)(Adj)NN(PP)\n",
    "\n",
    "noun_phrase_list = list(blob.noun_phrases)\n",
    "print('Noun_Phrases:->', noun_phrase_list[0:4])"
   ]
  },
  {
   "cell_type": "code",
   "execution_count": 12,
   "metadata": {
    "scrolled": true
   },
   "outputs": [
    {
     "name": "stdout",
     "output_type": "stream",
     "text": [
      "bi_grams:-> [WordList(['The', 'titular']), WordList(['titular', 'threat']), WordList(['threat', 'of'])]\n",
      "\n",
      "n_grams:-> [WordList(['The', 'titular', 'threat']), WordList(['titular', 'threat', 'of'])]\n"
     ]
    }
   ],
   "source": [
    "##############################\n",
    "# --- Bi-Grams and N-Grams ---\n",
    "##############################\n",
    "\n",
    "bi_grams = blob.ngrams(n=2)\n",
    "print('bi_grams:->', bi_grams[0:3])\n",
    "\n",
    "print()\n",
    "\n",
    "n_grams = blob.ngrams(n=3)\n",
    "print('n_grams:->', n_grams[0:2])"
   ]
  },
  {
   "cell_type": "markdown",
   "metadata": {
    "collapsed": true
   },
   "source": [
    "---"
   ]
  }
 ],
 "metadata": {
  "kernelspec": {
   "display_name": "Python 3",
   "language": "python",
   "name": "python3"
  },
  "language_info": {
   "codemirror_mode": {
    "name": "ipython",
    "version": 3
   },
   "file_extension": ".py",
   "mimetype": "text/x-python",
   "name": "python",
   "nbconvert_exporter": "python",
   "pygments_lexer": "ipython3",
   "version": "3.6.2"
  }
 },
 "nbformat": 4,
 "nbformat_minor": 2
}
